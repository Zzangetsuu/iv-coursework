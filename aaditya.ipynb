{
 "cells": [
  {
   "cell_type": "code",
   "execution_count": 6,
   "id": "fe4b3513",
   "metadata": {},
   "outputs": [],
   "source": [
    "\n",
    "import pandas as pd\n",
    "import altair as alt\n",
    "from IPython.display import display\n",
    "\n",
    "file_path = r'C:\\Users\\aadit\\Downloads\\Documents\\Information Visualization\\TMDB_tv_dataset_v3.csv'\n",
    "cvd_data = pd.read_csv(file_path)\n",
    "\n",
    "tv_shows_data = cvd_data\n",
    "tv_shows_data.dropna(inplace=True)\n",
    "tv_shows_data = tv_shows_data.sample(n=100,random_state=40)\n",
    "\n",
    "alt.data_transformers.enable('json')\n",
    "\n",
    "tv_shows_data['last_air_date'] = pd.to_datetime(tv_shows_data['last_air_date'], format='%d-%m-%Y')\n",
    "# Extract month from 'last_air_date'\n",
    "tv_shows_data['month_year'] = tv_shows_data['last_air_date'].dt.to_period('M')\n",
    "tv_shows_data['month_year'] = tv_shows_data['month_year'].astype(str)\n",
    "tv_shows_data['month'] = tv_shows_data['last_air_date'].dt.month_name()\n",
    "\n",
    "\n",
    "# Task 1: Explore trends in TV show popularity based on vote count and average.\n",
    "popularity_chart = alt.Chart(tv_shows_data).mark_point().encode(\n",
    "    x='vote_count',\n",
    "    y='vote_average',\n",
    "    color=alt.Color('popularity', scale=alt.Scale(scheme='category20')),\n",
    "    tooltip=['name', 'vote_count', 'vote_average', 'popularity']\n",
    ").interactive().properties(\n",
    "    title='Interactive Exploration: Vote Count vs Vote Average'\n",
    ")\n"
   ]
  },
  {
   "cell_type": "code",
   "execution_count": 7,
   "id": "912fda52",
   "metadata": {},
   "outputs": [],
   "source": [
    "\n",
    "# Task 2: Analyze TV show genres to identify the most popular genres or combinations of genres.\n",
    "tv_shows_genres = tv_shows_data.assign(genres=tv_shows_data['genres'].str.split(', ')).explode('genres')\n",
    "\n",
    "# Count the occurrences of each genre\n",
    "genre_counts = tv_shows_genres['genres'].value_counts().reset_index()\n",
    "genre_counts.columns = ['Genre', 'Count']\n",
    "\n",
    "# Task 2: Analyze TV show genres to identify the most popular genres or combinations of genres.\n",
    "genre_chart = alt.Chart(genre_counts).mark_bar().encode(\n",
    "    x=alt.X('Genre:N', title='Genre'),\n",
    "    y=alt.Y('Count:Q', title='Number of TV Shows'),\n",
    "    color=alt.Color('Genre:N', title='Genre')\n",
    ").properties(\n",
    "    title='Distribution of TV Show Genres'\n",
    ")\n"
   ]
  },
  {
   "cell_type": "code",
   "execution_count": 8,
   "id": "f326ce30",
   "metadata": {},
   "outputs": [],
   "source": [
    "\n",
    "# Task 3: Investigate the relationship between TV show ratings and the number of seasons and episodes.\n",
    "ratings_chart = alt.Chart(tv_shows_data).mark_circle().encode(\n",
    "    x='number_of_seasons',\n",
    "    y='number_of_episodes',\n",
    "    color='vote_average',\n",
    "    tooltip=['name', 'number_of_seasons', 'number_of_episodes', 'vote_average']\n",
    ").properties(\n",
    "    title='Relationship between Ratings and Number of Seasons/Episodes'\n",
    ")\n"
   ]
  },
  {
   "cell_type": "code",
   "execution_count": 9,
   "id": "b92a98a7",
   "metadata": {},
   "outputs": [],
   "source": [
    "\n",
    "# Task 4: Explore the distribution of TV show run times and investigate whether episode duration affects overall ratings.\n",
    "runtime_chart = alt.Chart(tv_shows_data).mark_bar().encode(\n",
    "    x=alt.X('episode_run_time:Q', title='Episode Run Time (minutes)'),\n",
    "    y=alt.Y('count():Q', title='Number of TV Shows'),\n",
    "    tooltip=['episode_run_time:Q', 'count():Q']\n",
    ").properties(\n",
    "    title='Distribution of TV Show Run Times'\n",
    ")\n"
   ]
  },
  {
   "cell_type": "code",
   "execution_count": 10,
   "id": "9eac6309",
   "metadata": {},
   "outputs": [],
   "source": [
    "\n",
    "# Task 5: Investigate TV show production trends across different countries and networks.\n",
    "production_trends_chart = alt.Chart(tv_shows_data).transform_aggregate(count='count()',groupby=['origin_country', 'networks']).mark_bar().encode(\n",
    "    x=alt.X('origin_country:N', title='Country'),\n",
    "    y=alt.Y('count:Q', title='Number of TV Shows'),\n",
    "    color=alt.Color('networks:N', title='Network'),\n",
    "    tooltip=['origin_country:N', 'networks:N', 'count:Q']\n",
    ").properties(\n",
    "    title='TV Show Production Trends Across Countries and Networks'\n",
    ")\n"
   ]
  },
  {
   "cell_type": "code",
   "execution_count": 11,
   "id": "67e8c162",
   "metadata": {},
   "outputs": [],
   "source": [
    "\n",
    "# Task 6: Analyze the relationship between TV show language and popularity, and investigate the popularity of non-English shows.\n",
    "language_popularity_chart = alt.Chart(tv_shows_data).mark_point().encode(\n",
    "    x='original_language',\n",
    "    y='popularity',\n",
    "    tooltip=['original_language', 'popularity'],\n",
    "    color='original_language'\n",
    ").properties(\n",
    "    title='Relationship between TV Show Language and Popularity'\n",
    ")\n"
   ]
  },
  {
   "cell_type": "code",
   "execution_count": 12,
   "id": "1f9dc0e6",
   "metadata": {},
   "outputs": [],
   "source": [
    "\n",
    "# Task 7: Track the status of TV shows (in production or not) and analyze their popularity over time.\n",
    "status_popularity_chart = alt.Chart(tv_shows_data).mark_line().encode(\n",
    "    x='month_year:O',\n",
    "    y='popularity:Q',\n",
    "    color='in_production:N',\n",
    "    tooltip=['name','month_year', 'popularity', 'in_production']\n",
    ").properties(\n",
    "    title='Popularity of TV Shows Over Time by Production Status'\n",
    ")\n",
    "\n",
    "#highlight_circle = base_chart.mark_circle(size=100, opacity=0).encode(opacity=alt.condition(alt.selection_point(), alt.value(1), alt.value(0)))\n",
    "\n",
    "#status_popularity_chart = alt.layer(base_chart, highlight_circle)"
   ]
  },
  {
   "cell_type": "code",
   "execution_count": 13,
   "id": "f1d82000",
   "metadata": {
    "scrolled": true
   },
   "outputs": [
    {
     "data": {
      "text/html": [
       "\n",
       "<style>\n",
       "  #altair-viz-3e0b72044584450fa489b2ad87f906be.vega-embed {\n",
       "    width: 100%;\n",
       "    display: flex;\n",
       "  }\n",
       "\n",
       "  #altair-viz-3e0b72044584450fa489b2ad87f906be.vega-embed details,\n",
       "  #altair-viz-3e0b72044584450fa489b2ad87f906be.vega-embed details summary {\n",
       "    position: relative;\n",
       "  }\n",
       "</style>\n",
       "<div id=\"altair-viz-3e0b72044584450fa489b2ad87f906be\"></div>\n",
       "<script type=\"text/javascript\">\n",
       "  var VEGA_DEBUG = (typeof VEGA_DEBUG == \"undefined\") ? {} : VEGA_DEBUG;\n",
       "  (function(spec, embedOpt){\n",
       "    let outputDiv = document.currentScript.previousElementSibling;\n",
       "    if (outputDiv.id !== \"altair-viz-3e0b72044584450fa489b2ad87f906be\") {\n",
       "      outputDiv = document.getElementById(\"altair-viz-3e0b72044584450fa489b2ad87f906be\");\n",
       "    }\n",
       "    const paths = {\n",
       "      \"vega\": \"https://cdn.jsdelivr.net/npm/vega@5?noext\",\n",
       "      \"vega-lib\": \"https://cdn.jsdelivr.net/npm/vega-lib?noext\",\n",
       "      \"vega-lite\": \"https://cdn.jsdelivr.net/npm/vega-lite@5.8.0?noext\",\n",
       "      \"vega-embed\": \"https://cdn.jsdelivr.net/npm/vega-embed@6?noext\",\n",
       "    };\n",
       "\n",
       "    function maybeLoadScript(lib, version) {\n",
       "      var key = `${lib.replace(\"-\", \"\")}_version`;\n",
       "      return (VEGA_DEBUG[key] == version) ?\n",
       "        Promise.resolve(paths[lib]) :\n",
       "        new Promise(function(resolve, reject) {\n",
       "          var s = document.createElement('script');\n",
       "          document.getElementsByTagName(\"head\")[0].appendChild(s);\n",
       "          s.async = true;\n",
       "          s.onload = () => {\n",
       "            VEGA_DEBUG[key] = version;\n",
       "            return resolve(paths[lib]);\n",
       "          };\n",
       "          s.onerror = () => reject(`Error loading script: ${paths[lib]}`);\n",
       "          s.src = paths[lib];\n",
       "        });\n",
       "    }\n",
       "\n",
       "    function showError(err) {\n",
       "      outputDiv.innerHTML = `<div class=\"error\" style=\"color:red;\">${err}</div>`;\n",
       "      throw err;\n",
       "    }\n",
       "\n",
       "    function displayChart(vegaEmbed) {\n",
       "      vegaEmbed(outputDiv, spec, embedOpt)\n",
       "        .catch(err => showError(`Javascript Error: ${err.message}<br>This usually means there's a typo in your chart specification. See the javascript console for the full traceback.`));\n",
       "    }\n",
       "\n",
       "    if(typeof define === \"function\" && define.amd) {\n",
       "      requirejs.config({paths});\n",
       "      require([\"vega-embed\"], displayChart, err => showError(`Error loading script: ${err.message}`));\n",
       "    } else {\n",
       "      maybeLoadScript(\"vega\", \"5\")\n",
       "        .then(() => maybeLoadScript(\"vega-lite\", \"5.8.0\"))\n",
       "        .then(() => maybeLoadScript(\"vega-embed\", \"6\"))\n",
       "        .catch(showError)\n",
       "        .then(() => displayChart(vegaEmbed));\n",
       "    }\n",
       "  })({\"config\": {\"view\": {\"continuousWidth\": 300, \"continuousHeight\": 300}, \"legend\": {\"labelFontSize\": 12, \"symbolSize\": 100, \"titleFontSize\": 14}}, \"vconcat\": [{\"hconcat\": [{\"data\": {\"url\": \"altair-data-bf3c0a4708abfe5312c7dc8ae9fb28b7.json\", \"format\": {\"type\": \"json\"}}, \"mark\": {\"type\": \"point\"}, \"encoding\": {\"color\": {\"field\": \"popularity\", \"scale\": {\"scheme\": \"category20\"}, \"type\": \"quantitative\"}, \"tooltip\": [{\"field\": \"name\", \"type\": \"nominal\"}, {\"field\": \"vote_count\", \"type\": \"quantitative\"}, {\"field\": \"vote_average\", \"type\": \"quantitative\"}, {\"field\": \"popularity\", \"type\": \"quantitative\"}], \"x\": {\"field\": \"vote_count\", \"type\": \"quantitative\"}, \"y\": {\"field\": \"vote_average\", \"type\": \"quantitative\"}}, \"name\": \"view_1\", \"title\": \"Interactive Exploration: Vote Count vs Vote Average\"}, {\"data\": {\"url\": \"altair-data-d0db8ebac16c55ca93892592306ac561.json\", \"format\": {\"type\": \"json\"}}, \"mark\": {\"type\": \"bar\"}, \"encoding\": {\"color\": {\"field\": \"Genre\", \"title\": \"Genre\", \"type\": \"nominal\"}, \"x\": {\"field\": \"Genre\", \"title\": \"Genre\", \"type\": \"nominal\"}, \"y\": {\"field\": \"Count\", \"title\": \"Number of TV Shows\", \"type\": \"quantitative\"}}, \"title\": \"Distribution of TV Show Genres\"}]}, {\"hconcat\": [{\"mark\": {\"type\": \"bar\"}, \"encoding\": {\"tooltip\": [{\"field\": \"episode_run_time\", \"type\": \"quantitative\"}, {\"aggregate\": \"count\", \"type\": \"quantitative\"}], \"x\": {\"field\": \"episode_run_time\", \"title\": \"Episode Run Time (minutes)\", \"type\": \"quantitative\"}, \"y\": {\"aggregate\": \"count\", \"title\": \"Number of TV Shows\", \"type\": \"quantitative\"}}, \"title\": \"Distribution of TV Show Run Times\"}, {\"mark\": {\"type\": \"circle\"}, \"encoding\": {\"color\": {\"field\": \"vote_average\", \"type\": \"quantitative\"}, \"tooltip\": [{\"field\": \"name\", \"type\": \"nominal\"}, {\"field\": \"number_of_seasons\", \"type\": \"quantitative\"}, {\"field\": \"number_of_episodes\", \"type\": \"quantitative\"}, {\"field\": \"vote_average\", \"type\": \"quantitative\"}], \"x\": {\"field\": \"number_of_seasons\", \"type\": \"quantitative\"}, \"y\": {\"field\": \"number_of_episodes\", \"type\": \"quantitative\"}}, \"title\": \"Relationship between Ratings and Number of Seasons/Episodes\"}], \"data\": {\"url\": \"altair-data-bf3c0a4708abfe5312c7dc8ae9fb28b7.json\", \"format\": {\"type\": \"json\"}}}, {\"hconcat\": [{\"mark\": {\"type\": \"point\"}, \"encoding\": {\"color\": {\"field\": \"original_language\", \"type\": \"nominal\"}, \"tooltip\": [{\"field\": \"original_language\", \"type\": \"nominal\"}, {\"field\": \"popularity\", \"type\": \"quantitative\"}], \"x\": {\"field\": \"original_language\", \"type\": \"nominal\"}, \"y\": {\"field\": \"popularity\", \"type\": \"quantitative\"}}, \"title\": \"Relationship between TV Show Language and Popularity\"}, {\"mark\": {\"type\": \"bar\"}, \"encoding\": {\"color\": {\"field\": \"networks\", \"title\": \"Network\", \"type\": \"nominal\"}, \"tooltip\": [{\"field\": \"origin_country\", \"type\": \"nominal\"}, {\"field\": \"networks\", \"type\": \"nominal\"}, {\"field\": \"count\", \"type\": \"quantitative\"}], \"x\": {\"field\": \"origin_country\", \"title\": \"Country\", \"type\": \"nominal\"}, \"y\": {\"field\": \"count\", \"title\": \"Number of TV Shows\", \"type\": \"quantitative\"}}, \"title\": \"TV Show Production Trends Across Countries and Networks\", \"transform\": [{\"aggregate\": [{\"op\": \"count\", \"as\": \"count\"}], \"groupby\": [\"origin_country\", \"networks\"]}]}], \"data\": {\"url\": \"altair-data-bf3c0a4708abfe5312c7dc8ae9fb28b7.json\", \"format\": {\"type\": \"json\"}}}, {\"data\": {\"url\": \"altair-data-bf3c0a4708abfe5312c7dc8ae9fb28b7.json\", \"format\": {\"type\": \"json\"}}, \"mark\": {\"type\": \"line\"}, \"encoding\": {\"color\": {\"field\": \"in_production\", \"type\": \"nominal\"}, \"tooltip\": [{\"field\": \"name\", \"type\": \"nominal\"}, {\"field\": \"month_year\", \"type\": \"nominal\"}, {\"field\": \"popularity\", \"type\": \"quantitative\"}, {\"field\": \"in_production\", \"type\": \"nominal\"}], \"x\": {\"field\": \"month_year\", \"type\": \"ordinal\"}, \"y\": {\"field\": \"popularity\", \"type\": \"quantitative\"}}, \"title\": \"Popularity of TV Shows Over Time by Production Status\"}], \"params\": [{\"name\": \"param_1\", \"select\": {\"type\": \"interval\", \"encodings\": [\"x\", \"y\"]}, \"bind\": \"scales\", \"views\": [\"view_1\"]}], \"$schema\": \"https://vega.github.io/schema/vega-lite/v5.8.0.json\"}, {\"mode\": \"vega-lite\"});\n",
       "</script>"
      ],
      "text/plain": [
       "alt.VConcatChart(...)"
      ]
     },
     "metadata": {},
     "output_type": "display_data"
    }
   ],
   "source": [
    "# Combine all charts for visualization\n",
    "combined_chart = (popularity_chart | genre_chart) & ( runtime_chart | ratings_chart) & (language_popularity_chart | production_trends_chart) & (status_popularity_chart)\n",
    "combined_chart = combined_chart.configure_legend(\n",
    "    titleFontSize=14,   \n",
    "    labelFontSize=12,   \n",
    "    symbolSize=100\n",
    ")\n",
    "display(combined_chart)"
   ]
  },
  {
   "cell_type": "code",
   "execution_count": null,
   "id": "ad7a0991",
   "metadata": {},
   "outputs": [],
   "source": []
  },
  {
   "cell_type": "code",
   "execution_count": null,
   "id": "daf40cec",
   "metadata": {},
   "outputs": [],
   "source": []
  }
 ],
 "metadata": {
  "kernelspec": {
   "display_name": "Python 3 (ipykernel)",
   "language": "python",
   "name": "python3"
  },
  "language_info": {
   "codemirror_mode": {
    "name": "ipython",
    "version": 3
   },
   "file_extension": ".py",
   "mimetype": "text/x-python",
   "name": "python",
   "nbconvert_exporter": "python",
   "pygments_lexer": "ipython3",
   "version": "3.11.4"
  }
 },
 "nbformat": 4,
 "nbformat_minor": 5
}
