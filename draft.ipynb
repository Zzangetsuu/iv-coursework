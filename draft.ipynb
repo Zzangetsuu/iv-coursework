version https://git-lfs.github.com/spec/v1
oid sha256:cae49daccf06b074f823bfddf08b82febb02a11da2a6df9608becdd2bb31bd66
size 600782
